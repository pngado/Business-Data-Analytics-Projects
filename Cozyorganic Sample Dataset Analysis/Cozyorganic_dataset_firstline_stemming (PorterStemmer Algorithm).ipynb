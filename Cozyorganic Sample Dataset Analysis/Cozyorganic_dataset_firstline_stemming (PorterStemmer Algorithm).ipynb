{
  "nbformat": 4,
  "nbformat_minor": 0,
  "metadata": {
    "colab": {
      "name": "Cozyorganic dataset stemming.ipynb",
      "provenance": []
    },
    "kernelspec": {
      "name": "python3",
      "display_name": "Python 3"
    },
    "language_info": {
      "name": "python"
    }
  },
  "cells": [
    {
      "cell_type": "code",
      "execution_count": null,
      "metadata": {
        "colab": {
          "base_uri": "https://localhost:8080/"
        },
        "id": "IRAiiSxWhaV9",
        "outputId": "48a1bb98-73f3-4d48-ba53-707abc4d3ea6"
      },
      "outputs": [
        {
          "output_type": "stream",
          "name": "stderr",
          "text": [
            "[nltk_data] Downloading package stopwords to /root/nltk_data...\n",
            "[nltk_data]   Package stopwords is already up-to-date!\n"
          ]
        },
        {
          "output_type": "execute_result",
          "data": {
            "text/plain": [
              "True"
            ]
          },
          "metadata": {},
          "execution_count": 3
        }
      ],
      "source": [
        "#Import Python Natural Language Tool Kit Package \n",
        "import nltk\n",
        "nltk.download('stopwords')"
      ]
    },
    {
      "cell_type": "code",
      "source": [
        "from nltk.stem import PorterStemmer\n",
        "porter = PorterStemmer()\n",
        "words = ['item id', 'item', 'store', 'supplier', 'supplier location', 'quantity', 'item sold', 'purchase price', 'total cost', 'sold price', 'discounts', 'total sales', 'date', 'month number', 'month name', 'year', 'product feedback']\n",
        "for word in words: \n",
        "    print(word,\"--->\",porter.stem(word))"
      ],
      "metadata": {
        "colab": {
          "base_uri": "https://localhost:8080/"
        },
        "id": "weyoUwArinNW",
        "outputId": "600b7f79-0f73-4500-bba9-aed7adc5b4c9"
      },
      "execution_count": null,
      "outputs": [
        {
          "output_type": "stream",
          "name": "stdout",
          "text": [
            "item id ---> item id\n",
            "item ---> item\n",
            "store ---> store\n",
            "supplier ---> supplier\n",
            "supplier location ---> supplier loc\n",
            "quantity ---> quantiti\n",
            "item sold ---> item sold\n",
            "purchase price ---> purchase pric\n",
            "total cost ---> total cost\n",
            "sold price ---> sold pric\n",
            "discounts ---> discount\n",
            "total sales ---> total sal\n",
            "date ---> date\n",
            "month number ---> month numb\n",
            "month name ---> month nam\n",
            "year ---> year\n",
            "product feedback ---> product feedback\n"
          ]
        }
      ]
    }
  ]
}