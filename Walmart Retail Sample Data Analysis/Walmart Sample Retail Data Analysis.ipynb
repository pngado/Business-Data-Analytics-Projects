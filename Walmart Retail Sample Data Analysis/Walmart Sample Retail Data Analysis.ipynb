{
 "cells": [
  {
   "cell_type": "markdown",
   "id": "44e7965a",
   "metadata": {},
   "source": [
    "# Importing libraries"
   ]
  },
  {
   "cell_type": "code",
   "execution_count": 1,
   "id": "0c1f95e0",
   "metadata": {},
   "outputs": [],
   "source": [
    "import pandas as pd \n",
    "import numpy as np\n",
    "import seaborn as sns\n",
    "import matplotlib.pyplot as plt \n",
    "%matplotlib inline"
   ]
  },
  {
   "cell_type": "markdown",
   "id": "c90f526c",
   "metadata": {},
   "source": [
    "# Loading dataset"
   ]
  },
  {
   "cell_type": "code",
   "execution_count": 2,
   "id": "287355ec",
   "metadata": {},
   "outputs": [
    {
     "data": {
      "text/html": [
       "<div>\n",
       "<style scoped>\n",
       "    .dataframe tbody tr th:only-of-type {\n",
       "        vertical-align: middle;\n",
       "    }\n",
       "\n",
       "    .dataframe tbody tr th {\n",
       "        vertical-align: top;\n",
       "    }\n",
       "\n",
       "    .dataframe thead th {\n",
       "        text-align: right;\n",
       "    }\n",
       "</style>\n",
       "<table border=\"1\" class=\"dataframe\">\n",
       "  <thead>\n",
       "    <tr style=\"text-align: right;\">\n",
       "      <th></th>\n",
       "      <th>Store</th>\n",
       "      <th>Date</th>\n",
       "      <th>Weekly_Sales</th>\n",
       "      <th>Holiday_Flag</th>\n",
       "      <th>Temperature</th>\n",
       "      <th>Fuel_Price</th>\n",
       "      <th>CPI</th>\n",
       "      <th>Unemployment</th>\n",
       "    </tr>\n",
       "  </thead>\n",
       "  <tbody>\n",
       "    <tr>\n",
       "      <th>0</th>\n",
       "      <td>1</td>\n",
       "      <td>05-02-2010</td>\n",
       "      <td>1643690.90</td>\n",
       "      <td>0</td>\n",
       "      <td>42.31</td>\n",
       "      <td>2.572</td>\n",
       "      <td>211.096358</td>\n",
       "      <td>8.106</td>\n",
       "    </tr>\n",
       "    <tr>\n",
       "      <th>1</th>\n",
       "      <td>1</td>\n",
       "      <td>12-02-2010</td>\n",
       "      <td>1641957.44</td>\n",
       "      <td>1</td>\n",
       "      <td>38.51</td>\n",
       "      <td>2.548</td>\n",
       "      <td>211.242170</td>\n",
       "      <td>8.106</td>\n",
       "    </tr>\n",
       "    <tr>\n",
       "      <th>2</th>\n",
       "      <td>1</td>\n",
       "      <td>19-02-2010</td>\n",
       "      <td>1611968.17</td>\n",
       "      <td>0</td>\n",
       "      <td>39.93</td>\n",
       "      <td>2.514</td>\n",
       "      <td>211.289143</td>\n",
       "      <td>8.106</td>\n",
       "    </tr>\n",
       "    <tr>\n",
       "      <th>3</th>\n",
       "      <td>1</td>\n",
       "      <td>26-02-2010</td>\n",
       "      <td>1409727.59</td>\n",
       "      <td>0</td>\n",
       "      <td>46.63</td>\n",
       "      <td>2.561</td>\n",
       "      <td>211.319643</td>\n",
       "      <td>8.106</td>\n",
       "    </tr>\n",
       "    <tr>\n",
       "      <th>4</th>\n",
       "      <td>1</td>\n",
       "      <td>05-03-2010</td>\n",
       "      <td>1554806.68</td>\n",
       "      <td>0</td>\n",
       "      <td>46.50</td>\n",
       "      <td>2.625</td>\n",
       "      <td>211.350143</td>\n",
       "      <td>8.106</td>\n",
       "    </tr>\n",
       "  </tbody>\n",
       "</table>\n",
       "</div>"
      ],
      "text/plain": [
       "   Store        Date  Weekly_Sales  Holiday_Flag  Temperature  Fuel_Price  \\\n",
       "0      1  05-02-2010    1643690.90             0        42.31       2.572   \n",
       "1      1  12-02-2010    1641957.44             1        38.51       2.548   \n",
       "2      1  19-02-2010    1611968.17             0        39.93       2.514   \n",
       "3      1  26-02-2010    1409727.59             0        46.63       2.561   \n",
       "4      1  05-03-2010    1554806.68             0        46.50       2.625   \n",
       "\n",
       "          CPI  Unemployment  \n",
       "0  211.096358         8.106  \n",
       "1  211.242170         8.106  \n",
       "2  211.289143         8.106  \n",
       "3  211.319643         8.106  \n",
       "4  211.350143         8.106  "
      ]
     },
     "execution_count": 2,
     "metadata": {},
     "output_type": "execute_result"
    }
   ],
   "source": [
    "df = pd.read_csv('Walmart_Store_sales.csv')\n",
    "df.head()"
   ]
  },
  {
   "cell_type": "markdown",
   "id": "a989b362",
   "metadata": {},
   "source": [
    "# Data Insights"
   ]
  },
  {
   "cell_type": "code",
   "execution_count": 3,
   "id": "29c0e0f8",
   "metadata": {},
   "outputs": [
    {
     "data": {
      "text/plain": [
       "(6435, 8)"
      ]
     },
     "execution_count": 3,
     "metadata": {},
     "output_type": "execute_result"
    }
   ],
   "source": [
    "df.shape"
   ]
  },
  {
   "cell_type": "code",
   "execution_count": 4,
   "id": "7d9fe0d6",
   "metadata": {},
   "outputs": [
    {
     "name": "stdout",
     "output_type": "stream",
     "text": [
      "<class 'pandas.core.frame.DataFrame'>\n",
      "RangeIndex: 6435 entries, 0 to 6434\n",
      "Data columns (total 8 columns):\n",
      " #   Column        Non-Null Count  Dtype  \n",
      "---  ------        --------------  -----  \n",
      " 0   Store         6435 non-null   int64  \n",
      " 1   Date          6435 non-null   object \n",
      " 2   Weekly_Sales  6435 non-null   float64\n",
      " 3   Holiday_Flag  6435 non-null   int64  \n",
      " 4   Temperature   6435 non-null   float64\n",
      " 5   Fuel_Price    6435 non-null   float64\n",
      " 6   CPI           6435 non-null   float64\n",
      " 7   Unemployment  6435 non-null   float64\n",
      "dtypes: float64(5), int64(2), object(1)\n",
      "memory usage: 402.3+ KB\n"
     ]
    }
   ],
   "source": [
    "df.info()"
   ]
  },
  {
   "cell_type": "markdown",
   "id": "0af8e88c",
   "metadata": {},
   "source": [
    "# Check for missing values"
   ]
  },
  {
   "cell_type": "code",
   "execution_count": 7,
   "id": "91903567",
   "metadata": {},
   "outputs": [
    {
     "data": {
      "text/plain": [
       "<AxesSubplot:>"
      ]
     },
     "execution_count": 7,
     "metadata": {},
     "output_type": "execute_result"
    },
    {
     "data": {
      "image/png": "[encoded data removed]",
      "text/plain": [
       "<Figure size 432x288 with 1 Axes>"
      ]
     },
     "metadata": {
      "needs_background": "light"
     },
     "output_type": "display_data"
    }
   ],
   "source": [
    "sns.heatmap(df.isnull(), cbar=False, yticklabels=False, cmap = 'viridis')"
   ]
  },
  {
   "cell_type": "markdown",
   "id": "02cc53db",
   "metadata": {},
   "source": [
    "The data set has no missing values."
   ]
  },
  {
   "cell_type": "markdown",
   "id": "0e9354db",
   "metadata": {},
   "source": [
    "# Check for duplicates"
   ]
  },
  {
   "cell_type": "code",
   "execution_count": 11,
   "id": "addd1671",
   "metadata": {},
   "outputs": [
    {
     "data": {
      "text/plain": [
       "0"
      ]
     },
     "execution_count": 11,
     "metadata": {},
     "output_type": "execute_result"
    }
   ],
   "source": [
    "df.duplicated().sum()"
   ]
  },
  {
   "cell_type": "markdown",
   "id": "4f805b38",
   "metadata": {},
   "source": [
    "# Summary Statistics"
   ]
  },
  {
   "cell_type": "code",
   "execution_count": 5,
   "id": "dfd7a276",
   "metadata": {},
   "outputs": [
    {
     "data": {
      "text/html": [
       "<div>\n",
       "<style scoped>\n",
       "    .dataframe tbody tr th:only-of-type {\n",
       "        vertical-align: middle;\n",
       "    }\n",
       "\n",
       "    .dataframe tbody tr th {\n",
       "        vertical-align: top;\n",
       "    }\n",
       "\n",
       "    .dataframe thead th {\n",
       "        text-align: right;\n",
       "    }\n",
       "</style>\n",
       "<table border=\"1\" class=\"dataframe\">\n",
       "  <thead>\n",
       "    <tr style=\"text-align: right;\">\n",
       "      <th></th>\n",
       "      <th>Store</th>\n",
       "      <th>Weekly_Sales</th>\n",
       "      <th>Holiday_Flag</th>\n",
       "      <th>Temperature</th>\n",
       "      <th>Fuel_Price</th>\n",
       "      <th>CPI</th>\n",
       "      <th>Unemployment</th>\n",
       "    </tr>\n",
       "  </thead>\n",
       "  <tbody>\n",
       "    <tr>\n",
       "      <th>count</th>\n",
       "      <td>6435.000000</td>\n",
       "      <td>6.435000e+03</td>\n",
       "      <td>6435.000000</td>\n",
       "      <td>6435.000000</td>\n",
       "      <td>6435.000000</td>\n",
       "      <td>6435.000000</td>\n",
       "      <td>6435.000000</td>\n",
       "    </tr>\n",
       "    <tr>\n",
       "      <th>mean</th>\n",
       "      <td>23.000000</td>\n",
       "      <td>1.046965e+06</td>\n",
       "      <td>0.069930</td>\n",
       "      <td>60.663782</td>\n",
       "      <td>3.358607</td>\n",
       "      <td>171.578394</td>\n",
       "      <td>7.999151</td>\n",
       "    </tr>\n",
       "    <tr>\n",
       "      <th>std</th>\n",
       "      <td>12.988182</td>\n",
       "      <td>5.643666e+05</td>\n",
       "      <td>0.255049</td>\n",
       "      <td>18.444933</td>\n",
       "      <td>0.459020</td>\n",
       "      <td>39.356712</td>\n",
       "      <td>1.875885</td>\n",
       "    </tr>\n",
       "    <tr>\n",
       "      <th>min</th>\n",
       "      <td>1.000000</td>\n",
       "      <td>2.099862e+05</td>\n",
       "      <td>0.000000</td>\n",
       "      <td>-2.060000</td>\n",
       "      <td>2.472000</td>\n",
       "      <td>126.064000</td>\n",
       "      <td>3.879000</td>\n",
       "    </tr>\n",
       "    <tr>\n",
       "      <th>25%</th>\n",
       "      <td>12.000000</td>\n",
       "      <td>5.533501e+05</td>\n",
       "      <td>0.000000</td>\n",
       "      <td>47.460000</td>\n",
       "      <td>2.933000</td>\n",
       "      <td>131.735000</td>\n",
       "      <td>6.891000</td>\n",
       "    </tr>\n",
       "    <tr>\n",
       "      <th>50%</th>\n",
       "      <td>23.000000</td>\n",
       "      <td>9.607460e+05</td>\n",
       "      <td>0.000000</td>\n",
       "      <td>62.670000</td>\n",
       "      <td>3.445000</td>\n",
       "      <td>182.616521</td>\n",
       "      <td>7.874000</td>\n",
       "    </tr>\n",
       "    <tr>\n",
       "      <th>75%</th>\n",
       "      <td>34.000000</td>\n",
       "      <td>1.420159e+06</td>\n",
       "      <td>0.000000</td>\n",
       "      <td>74.940000</td>\n",
       "      <td>3.735000</td>\n",
       "      <td>212.743293</td>\n",
       "      <td>8.622000</td>\n",
       "    </tr>\n",
       "    <tr>\n",
       "      <th>max</th>\n",
       "      <td>45.000000</td>\n",
       "      <td>3.818686e+06</td>\n",
       "      <td>1.000000</td>\n",
       "      <td>100.140000</td>\n",
       "      <td>4.468000</td>\n",
       "      <td>227.232807</td>\n",
       "      <td>14.313000</td>\n",
       "    </tr>\n",
       "  </tbody>\n",
       "</table>\n",
       "</div>"
      ],
      "text/plain": [
       "             Store  Weekly_Sales  Holiday_Flag  Temperature   Fuel_Price  \\\n",
       "count  6435.000000  6.435000e+03   6435.000000  6435.000000  6435.000000   \n",
       "mean     23.000000  1.046965e+06      0.069930    60.663782     3.358607   \n",
       "std      12.988182  5.643666e+05      0.255049    18.444933     0.459020   \n",
       "min       1.000000  2.099862e+05      0.000000    -2.060000     2.472000   \n",
       "25%      12.000000  5.533501e+05      0.000000    47.460000     2.933000   \n",
       "50%      23.000000  9.607460e+05      0.000000    62.670000     3.445000   \n",
       "75%      34.000000  1.420159e+06      0.000000    74.940000     3.735000   \n",
       "max      45.000000  3.818686e+06      1.000000   100.140000     4.468000   \n",
       "\n",
       "               CPI  Unemployment  \n",
       "count  6435.000000   6435.000000  \n",
       "mean    171.578394      7.999151  \n",
       "std      39.356712      1.875885  \n",
       "min     126.064000      3.879000  \n",
       "25%     131.735000      6.891000  \n",
       "50%     182.616521      7.874000  \n",
       "75%     212.743293      8.622000  \n",
       "max     227.232807     14.313000  "
      ]
     },
     "execution_count": 5,
     "metadata": {},
     "output_type": "execute_result"
    }
   ],
   "source": [
    "df.describe()"
   ]
  },
  {
   "cell_type": "markdown",
   "id": "e6f54588",
   "metadata": {},
   "source": [
    "- Mean value is much greater than median value of the weekly sales column which is represented by 50% (50th percentile). \n",
    "\n",
    "- There is notably a large difference between 75th %tile and max values of the 'Weekly_Sales' column.\n",
    "\n",
    "- Observations 1 and 2 suggests that there are extreme outliers in our data set."
   ]
  },
  {
   "cell_type": "markdown",
   "id": "507995f8",
   "metadata": {},
   "source": [
    "# The possible effect of temperature, fuel price, CPI and unemployment on sales"
   ]
  },
  {
   "cell_type": "code",
   "execution_count": 9,
   "id": "1b05e805",
   "metadata": {},
   "outputs": [
    {
     "data": {
      "text/plain": [
       "<AxesSubplot:>"
      ]
     },
     "execution_count": 9,
     "metadata": {},
     "output_type": "execute_result"
    },
    {
     "data": {
      "image/png": "[encoded data removed]",
      "text/plain": [
       "<Figure size 432x288 with 2 Axes>"
      ]
     },
     "metadata": {
      "needs_background": "light"
     },
     "output_type": "display_data"
    }
   ],
   "source": [
    "plt.figure(figsize = (6,4))\n",
    "sns.heatmap(df.corr(), cmap='Blues', annot=True)"
   ]
  },
  {
   "cell_type": "markdown",
   "id": "5d76fc4d",
   "metadata": {},
   "source": [
    "- There doesn't seem to be any significantly meaningful relationships between weekly sales and other variables like temparature, fuel price, CPI and unemployment. \n",
    "- The most significant relationship seem to be between weekly sales and unemployment. \n",
    "- However, it doesn't seem like any of these variables have a big enough impact on sales for Walmart to care about. "
   ]
  },
  {
   "cell_type": "markdown",
   "id": "70695ce4",
   "metadata": {},
   "source": [
    "# Top 5 stores with the highest sales?"
   ]
  },
  {
   "cell_type": "code",
   "execution_count": 87,
   "id": "807b55bc",
   "metadata": {},
   "outputs": [
    {
     "data": {
      "text/html": [
       "<div>\n",
       "<style scoped>\n",
       "    .dataframe tbody tr th:only-of-type {\n",
       "        vertical-align: middle;\n",
       "    }\n",
       "\n",
       "    .dataframe tbody tr th {\n",
       "        vertical-align: top;\n",
       "    }\n",
       "\n",
       "    .dataframe thead th {\n",
       "        text-align: right;\n",
       "    }\n",
       "</style>\n",
       "<table border=\"1\" class=\"dataframe\">\n",
       "  <thead>\n",
       "    <tr style=\"text-align: right;\">\n",
       "      <th></th>\n",
       "      <th>Weekly_Sales</th>\n",
       "    </tr>\n",
       "    <tr>\n",
       "      <th>Store</th>\n",
       "      <th></th>\n",
       "    </tr>\n",
       "  </thead>\n",
       "  <tbody>\n",
       "    <tr>\n",
       "      <th>20</th>\n",
       "      <td>3.013978e+08</td>\n",
       "    </tr>\n",
       "    <tr>\n",
       "      <th>4</th>\n",
       "      <td>2.995440e+08</td>\n",
       "    </tr>\n",
       "    <tr>\n",
       "      <th>14</th>\n",
       "      <td>2.889999e+08</td>\n",
       "    </tr>\n",
       "    <tr>\n",
       "      <th>13</th>\n",
       "      <td>2.865177e+08</td>\n",
       "    </tr>\n",
       "    <tr>\n",
       "      <th>2</th>\n",
       "      <td>2.753824e+08</td>\n",
       "    </tr>\n",
       "  </tbody>\n",
       "</table>\n",
       "</div>"
      ],
      "text/plain": [
       "       Weekly_Sales\n",
       "Store              \n",
       "20     3.013978e+08\n",
       "4      2.995440e+08\n",
       "14     2.889999e+08\n",
       "13     2.865177e+08\n",
       "2      2.753824e+08"
      ]
     },
     "execution_count": 87,
     "metadata": {},
     "output_type": "execute_result"
    }
   ],
   "source": [
    "df2 = pd.DataFrame(df.groupby(['Store'])['Weekly_Sales'].sum())\n",
    "df2 = pd.DataFrame(df2.sort_values('Weekly_Sales', ascending = False).head())\n",
    "df2"
   ]
  },
  {
   "cell_type": "markdown",
   "id": "1b3959de",
   "metadata": {},
   "source": [
    "Store number 20 had the highest sales, followed by store number 4, 14, 13 and 2. "
   ]
  },
  {
   "cell_type": "markdown",
   "id": "931ea9fc",
   "metadata": {},
   "source": [
    "# Which is the store that achieved the highest sales in a single week between 2010-02-05 and 2012-11-01?"
   ]
  },
  {
   "cell_type": "code",
   "execution_count": 58,
   "id": "10af6a04",
   "metadata": {},
   "outputs": [
    {
     "name": "stdout",
     "output_type": "stream",
     "text": [
      "Store number:14, Date:24-12-2010, Sales:3818686.45, Holiday:0\n"
     ]
    }
   ],
   "source": [
    "store_sales_index = df['Weekly_Sales'].idxmax()\n",
    "store_sales = df.iloc[store_sales_index]\n",
    "store = store_sales['Store']\n",
    "date = store_sales['Date']\n",
    "sales = store_sales['Weekly_Sales']\n",
    "holiday_or_not = store_sales['Holiday_Flag']\n",
    "print(f'Store number:{store}, Date:{date}, Sales:{sales}, Holiday:{holiday_or_not}')"
   ]
  },
  {
   "cell_type": "markdown",
   "id": "9465dfea",
   "metadata": {},
   "source": [
    "In the week of 24-12-2010, store number 14 hit record sales of $3,818,686. And it wasn't a holiday week. It would be interesting to find out what happened during that week that made sales at store number 14 peak. "
   ]
  },
  {
   "cell_type": "markdown",
   "id": "79080b62",
   "metadata": {},
   "source": [
    "# Yearly sales performance during the documented period"
   ]
  },
  {
   "cell_type": "code",
   "execution_count": 117,
   "id": "c5baec8d",
   "metadata": {},
   "outputs": [
    {
     "data": {
      "text/html": [
       "<div>\n",
       "<style scoped>\n",
       "    .dataframe tbody tr th:only-of-type {\n",
       "        vertical-align: middle;\n",
       "    }\n",
       "\n",
       "    .dataframe tbody tr th {\n",
       "        vertical-align: top;\n",
       "    }\n",
       "\n",
       "    .dataframe thead th {\n",
       "        text-align: right;\n",
       "    }\n",
       "</style>\n",
       "<table border=\"1\" class=\"dataframe\">\n",
       "  <thead>\n",
       "    <tr style=\"text-align: right;\">\n",
       "      <th></th>\n",
       "      <th>Store</th>\n",
       "      <th>Date</th>\n",
       "      <th>Weekly_Sales</th>\n",
       "      <th>Holiday_Flag</th>\n",
       "      <th>Temperature</th>\n",
       "      <th>Fuel_Price</th>\n",
       "      <th>CPI</th>\n",
       "      <th>Unemployment</th>\n",
       "      <th>year</th>\n",
       "      <th>month</th>\n",
       "      <th>day</th>\n",
       "    </tr>\n",
       "    <tr>\n",
       "      <th>dates</th>\n",
       "      <th></th>\n",
       "      <th></th>\n",
       "      <th></th>\n",
       "      <th></th>\n",
       "      <th></th>\n",
       "      <th></th>\n",
       "      <th></th>\n",
       "      <th></th>\n",
       "      <th></th>\n",
       "      <th></th>\n",
       "      <th></th>\n",
       "    </tr>\n",
       "  </thead>\n",
       "  <tbody>\n",
       "    <tr>\n",
       "      <th>2010-02-05</th>\n",
       "      <td>1</td>\n",
       "      <td>05-02-2010</td>\n",
       "      <td>1643690.90</td>\n",
       "      <td>0</td>\n",
       "      <td>42.31</td>\n",
       "      <td>2.572</td>\n",
       "      <td>211.096358</td>\n",
       "      <td>8.106</td>\n",
       "      <td>2010</td>\n",
       "      <td>2</td>\n",
       "      <td>5</td>\n",
       "    </tr>\n",
       "    <tr>\n",
       "      <th>2010-02-12</th>\n",
       "      <td>1</td>\n",
       "      <td>12-02-2010</td>\n",
       "      <td>1641957.44</td>\n",
       "      <td>1</td>\n",
       "      <td>38.51</td>\n",
       "      <td>2.548</td>\n",
       "      <td>211.242170</td>\n",
       "      <td>8.106</td>\n",
       "      <td>2010</td>\n",
       "      <td>2</td>\n",
       "      <td>12</td>\n",
       "    </tr>\n",
       "    <tr>\n",
       "      <th>2010-02-19</th>\n",
       "      <td>1</td>\n",
       "      <td>19-02-2010</td>\n",
       "      <td>1611968.17</td>\n",
       "      <td>0</td>\n",
       "      <td>39.93</td>\n",
       "      <td>2.514</td>\n",
       "      <td>211.289143</td>\n",
       "      <td>8.106</td>\n",
       "      <td>2010</td>\n",
       "      <td>2</td>\n",
       "      <td>19</td>\n",
       "    </tr>\n",
       "    <tr>\n",
       "      <th>2010-02-26</th>\n",
       "      <td>1</td>\n",
       "      <td>26-02-2010</td>\n",
       "      <td>1409727.59</td>\n",
       "      <td>0</td>\n",
       "      <td>46.63</td>\n",
       "      <td>2.561</td>\n",
       "      <td>211.319643</td>\n",
       "      <td>8.106</td>\n",
       "      <td>2010</td>\n",
       "      <td>2</td>\n",
       "      <td>26</td>\n",
       "    </tr>\n",
       "    <tr>\n",
       "      <th>2010-03-05</th>\n",
       "      <td>1</td>\n",
       "      <td>05-03-2010</td>\n",
       "      <td>1554806.68</td>\n",
       "      <td>0</td>\n",
       "      <td>46.50</td>\n",
       "      <td>2.625</td>\n",
       "      <td>211.350143</td>\n",
       "      <td>8.106</td>\n",
       "      <td>2010</td>\n",
       "      <td>3</td>\n",
       "      <td>5</td>\n",
       "    </tr>\n",
       "    <tr>\n",
       "      <th>...</th>\n",
       "      <td>...</td>\n",
       "      <td>...</td>\n",
       "      <td>...</td>\n",
       "      <td>...</td>\n",
       "      <td>...</td>\n",
       "      <td>...</td>\n",
       "      <td>...</td>\n",
       "      <td>...</td>\n",
       "      <td>...</td>\n",
       "      <td>...</td>\n",
       "      <td>...</td>\n",
       "    </tr>\n",
       "    <tr>\n",
       "      <th>2012-09-28</th>\n",
       "      <td>45</td>\n",
       "      <td>28-09-2012</td>\n",
       "      <td>713173.95</td>\n",
       "      <td>0</td>\n",
       "      <td>64.88</td>\n",
       "      <td>3.997</td>\n",
       "      <td>192.013558</td>\n",
       "      <td>8.684</td>\n",
       "      <td>2012</td>\n",
       "      <td>9</td>\n",
       "      <td>28</td>\n",
       "    </tr>\n",
       "    <tr>\n",
       "      <th>2012-10-05</th>\n",
       "      <td>45</td>\n",
       "      <td>05-10-2012</td>\n",
       "      <td>733455.07</td>\n",
       "      <td>0</td>\n",
       "      <td>64.89</td>\n",
       "      <td>3.985</td>\n",
       "      <td>192.170412</td>\n",
       "      <td>8.667</td>\n",
       "      <td>2012</td>\n",
       "      <td>10</td>\n",
       "      <td>5</td>\n",
       "    </tr>\n",
       "    <tr>\n",
       "      <th>2012-10-12</th>\n",
       "      <td>45</td>\n",
       "      <td>12-10-2012</td>\n",
       "      <td>734464.36</td>\n",
       "      <td>0</td>\n",
       "      <td>54.47</td>\n",
       "      <td>4.000</td>\n",
       "      <td>192.327265</td>\n",
       "      <td>8.667</td>\n",
       "      <td>2012</td>\n",
       "      <td>10</td>\n",
       "      <td>12</td>\n",
       "    </tr>\n",
       "    <tr>\n",
       "      <th>2012-10-19</th>\n",
       "      <td>45</td>\n",
       "      <td>19-10-2012</td>\n",
       "      <td>718125.53</td>\n",
       "      <td>0</td>\n",
       "      <td>56.47</td>\n",
       "      <td>3.969</td>\n",
       "      <td>192.330854</td>\n",
       "      <td>8.667</td>\n",
       "      <td>2012</td>\n",
       "      <td>10</td>\n",
       "      <td>19</td>\n",
       "    </tr>\n",
       "    <tr>\n",
       "      <th>2012-10-26</th>\n",
       "      <td>45</td>\n",
       "      <td>26-10-2012</td>\n",
       "      <td>760281.43</td>\n",
       "      <td>0</td>\n",
       "      <td>58.85</td>\n",
       "      <td>3.882</td>\n",
       "      <td>192.308899</td>\n",
       "      <td>8.667</td>\n",
       "      <td>2012</td>\n",
       "      <td>10</td>\n",
       "      <td>26</td>\n",
       "    </tr>\n",
       "  </tbody>\n",
       "</table>\n",
       "<p>6435 rows × 11 columns</p>\n",
       "</div>"
      ],
      "text/plain": [
       "            Store        Date  Weekly_Sales  Holiday_Flag  Temperature  \\\n",
       "dates                                                                    \n",
       "2010-02-05      1  05-02-2010    1643690.90             0        42.31   \n",
       "2010-02-12      1  12-02-2010    1641957.44             1        38.51   \n",
       "2010-02-19      1  19-02-2010    1611968.17             0        39.93   \n",
       "2010-02-26      1  26-02-2010    1409727.59             0        46.63   \n",
       "2010-03-05      1  05-03-2010    1554806.68             0        46.50   \n",
       "...           ...         ...           ...           ...          ...   \n",
       "2012-09-28     45  28-09-2012     713173.95             0        64.88   \n",
       "2012-10-05     45  05-10-2012     733455.07             0        64.89   \n",
       "2012-10-12     45  12-10-2012     734464.36             0        54.47   \n",
       "2012-10-19     45  19-10-2012     718125.53             0        56.47   \n",
       "2012-10-26     45  26-10-2012     760281.43             0        58.85   \n",
       "\n",
       "            Fuel_Price         CPI  Unemployment  year  month  day  \n",
       "dates                                                               \n",
       "2010-02-05       2.572  211.096358         8.106  2010      2    5  \n",
       "2010-02-12       2.548  211.242170         8.106  2010      2   12  \n",
       "2010-02-19       2.514  211.289143         8.106  2010      2   19  \n",
       "2010-02-26       2.561  211.319643         8.106  2010      2   26  \n",
       "2010-03-05       2.625  211.350143         8.106  2010      3    5  \n",
       "...                ...         ...           ...   ...    ...  ...  \n",
       "2012-09-28       3.997  192.013558         8.684  2012      9   28  \n",
       "2012-10-05       3.985  192.170412         8.667  2012     10    5  \n",
       "2012-10-12       4.000  192.327265         8.667  2012     10   12  \n",
       "2012-10-19       3.969  192.330854         8.667  2012     10   19  \n",
       "2012-10-26       3.882  192.308899         8.667  2012     10   26  \n",
       "\n",
       "[6435 rows x 11 columns]"
      ]
     },
     "execution_count": 117,
     "metadata": {},
     "output_type": "execute_result"
    }
   ],
   "source": [
    "#Add date columns\n",
    "df['dates'] = pd.to_datetime(df['Date'], dayfirst=True)\n",
    "df['year'] = df['dates'].dt.year\n",
    "df['month'] = df['dates'].dt.month\n",
    "df['day'] = df['dates'].dt.day\n",
    "df.set_index('dates')\n"
   ]
  },
  {
   "cell_type": "code",
   "execution_count": 129,
   "id": "ca62b064",
   "metadata": {},
   "outputs": [
    {
     "data": {
      "text/plain": [
       "Text(0.5, 1.0, 'Yearly Sales')"
      ]
     },
     "execution_count": 129,
     "metadata": {},
     "output_type": "execute_result"
    },
    {
     "data": {
      "image/png": "[encoded data removed]",
      "text/plain": [
       "<Figure size 432x288 with 1 Axes>"
      ]
     },
     "metadata": {
      "needs_background": "light"
     },
     "output_type": "display_data"
    }
   ],
   "source": [
    "#Yearly Sales\n",
    "df.groupby('year')['Weekly_Sales'].sum().plot(kind='bar', legend=False)\n",
    "plt.title('Yearly Sales')"
   ]
  },
  {
   "cell_type": "markdown",
   "id": "cc2fdc33",
   "metadata": {},
   "source": [
    "As shown in the graph, sales increased slightly between 2010 and 2011, followed by a reasonably large plunge in 2012. It's important to look into the reason why sales fell (Was there any event that might have caused the decrease in sales? Was it a macro event that affected all other retailers or an internal event?)."
   ]
  },
  {
   "cell_type": "markdown",
   "id": "b05f27d5",
   "metadata": {},
   "source": [
    "# Monthly Sales Performance in 2010, 2011 and 2012"
   ]
  },
  {
   "cell_type": "code",
   "execution_count": 121,
   "id": "80c3ee8c",
   "metadata": {},
   "outputs": [
    {
     "data": {
      "image/png": "[encoded data removed]",
      "text/plain": [
       "<Figure size 1120x560 with 1 Axes>"
      ]
     },
     "metadata": {
      "needs_background": "light"
     },
     "output_type": "display_data"
    }
   ],
   "source": [
    "#Monthly Sales Performance in 2010\n",
    "plt.figure(figsize=(14,7), dpi=80)\n",
    "graph1 = sns.barplot(data=df, x=df[df.year==2010]['month'], y=df[df.year==2010]['Weekly_Sales'])\n",
    "graph1.set(title=\"Walmart's 2010 Monthly Sales Performance\")\n",
    "\n",
    "for p in graph1.patches:\n",
    "    graph1.annotate(format(p.get_height(), '.2f'), (p.get_x() + p.get_width() / 2., p.get_height()), \n",
    "               ha = 'center', va = 'center', xytext = (0, 35), textcoords = 'offset points')\n"
   ]
  },
  {
   "cell_type": "code",
   "execution_count": 123,
   "id": "5839e859",
   "metadata": {},
   "outputs": [
    {
     "data": {
      "image/png": "[encoded data removed]",
      "text/plain": [
       "<Figure size 1120x560 with 1 Axes>"
      ]
     },
     "metadata": {
      "needs_background": "light"
     },
     "output_type": "display_data"
    }
   ],
   "source": [
    "#Monthly Sales Performance in 2011\n",
    "plt.figure(figsize=(14,7), dpi=80)\n",
    "graph2 = sns.barplot(data=df, x=df[df.year==2011]['month'], y=df[df.year==2011]['Weekly_Sales'])\n",
    "graph2.set(title=\"Walmart's 2011 Monthly Sales Performance\")\n",
    "\n",
    "for p in graph2.patches:\n",
    "    graph2.annotate(format(p.get_height(), '.2f'), (p.get_x() + p.get_width() / 2., p.get_height()), \n",
    "               ha = 'center', va = 'center', xytext = (0, 35), textcoords = 'offset points')"
   ]
  },
  {
   "cell_type": "code",
   "execution_count": 127,
   "id": "e08248bc",
   "metadata": {},
   "outputs": [
    {
     "data": {
      "image/png": "[encoded data removed]",
      "text/plain": [
       "<Figure size 1120x560 with 1 Axes>"
      ]
     },
     "metadata": {
      "needs_background": "light"
     },
     "output_type": "display_data"
    }
   ],
   "source": [
    "#Monthly Sales Performance in 2012\n",
    "plt.figure(figsize=(14,7), dpi=80)\n",
    "graph3 = sns.barplot(data=df, x=df[df.year==2012]['month'], y=df[df.year==2012]['Weekly_Sales'])\n",
    "graph3.set(title=\"Walmart's 2012 Monthly Sales Performance\")\n",
    "\n",
    "for p in graph3.patches:\n",
    "    graph3.annotate(format(p.get_height(), '.2f'), (p.get_x() + p.get_width() / 2., p.get_height()), \n",
    "               ha = 'center', va = 'center', xytext = (0, 35), textcoords = 'offset points')"
   ]
  },
  {
   "cell_type": "markdown",
   "id": "bdcc73ca",
   "metadata": {},
   "source": [
    "The monthly sales patterns of 2010 and 2011 are pretty similar. Notably, they both had a significant jump at the end of the year from October to December. This might indicate a pattern in people's shopping behaviour (i.e., spending more at the end of the year, which is reasonable because 2 of the biggest holidays in Western countries - Thanksgiving and Christmas - happen in November and December). However, a 2-year pattern is generally not enough to make a conclusion. \n",
    "\n",
    "Sales from Q1 to Q3 for all 3 years are considerably stable, which is a good sign. "
   ]
  },
  {
   "cell_type": "markdown",
   "id": "6cff9dfd",
   "metadata": {},
   "source": [
    "#  Which store has maximum standard deviation i.e., the sales vary a lot?"
   ]
  },
  {
   "cell_type": "code",
   "execution_count": 88,
   "id": "3a7db134",
   "metadata": {},
   "outputs": [
    {
     "data": {
      "text/plain": [
       "Text(0, 0.5, 'Weekly Sales Variation')"
      ]
     },
     "execution_count": 88,
     "metadata": {},
     "output_type": "execute_result"
    },
    {
     "data": {
      "image/png": "[encoded data removed]",
      "text/plain": [
       "<Figure size 1440x576 with 1 Axes>"
      ]
     },
     "metadata": {
      "needs_background": "light"
     },
     "output_type": "display_data"
    }
   ],
   "source": [
    "df3 = pd.DataFrame(df.groupby(['Store'])['Weekly_Sales'].std())\n",
    "df3 = df3.sort_values('Weekly_Sales', ascending = False)\n",
    "\n",
    "df3.plot(kind='bar', title='Sales Standard Deviation', figsize=(20,8))\n",
    "plt.xlabel('Store', fontsize=12)\n",
    "plt.ylabel('Weekly Sales Variation', fontsize=12)"
   ]
  },
  {
   "cell_type": "markdown",
   "id": "edff5062",
   "metadata": {},
   "source": [
    "Store number 14 has the greatest variation in sales. It would be interesting to understand why. For example, is it because consumers in the area of Store number 14 are very sensitive to price increases and decreases?"
   ]
  },
  {
   "cell_type": "markdown",
   "id": "9bd1db6f",
   "metadata": {},
   "source": [
    "# Do holidays have an impact on shopping behaviour?"
   ]
  },
  {
   "cell_type": "code",
   "execution_count": 51,
   "id": "fe14f0be",
   "metadata": {},
   "outputs": [
    {
     "data": {
      "text/html": [
       "<div>\n",
       "<style scoped>\n",
       "    .dataframe tbody tr th:only-of-type {\n",
       "        vertical-align: middle;\n",
       "    }\n",
       "\n",
       "    .dataframe tbody tr th {\n",
       "        vertical-align: top;\n",
       "    }\n",
       "\n",
       "    .dataframe thead th {\n",
       "        text-align: right;\n",
       "    }\n",
       "</style>\n",
       "<table border=\"1\" class=\"dataframe\">\n",
       "  <thead>\n",
       "    <tr style=\"text-align: right;\">\n",
       "      <th></th>\n",
       "      <th>Weekly_Sales</th>\n",
       "    </tr>\n",
       "    <tr>\n",
       "      <th>Holiday_Flag</th>\n",
       "      <th></th>\n",
       "    </tr>\n",
       "  </thead>\n",
       "  <tbody>\n",
       "    <tr>\n",
       "      <th>1</th>\n",
       "      <td>1.122888e+06</td>\n",
       "    </tr>\n",
       "    <tr>\n",
       "      <th>0</th>\n",
       "      <td>1.041256e+06</td>\n",
       "    </tr>\n",
       "  </tbody>\n",
       "</table>\n",
       "</div>"
      ],
      "text/plain": [
       "              Weekly_Sales\n",
       "Holiday_Flag              \n",
       "1             1.122888e+06\n",
       "0             1.041256e+06"
      ]
     },
     "execution_count": 51,
     "metadata": {},
     "output_type": "execute_result"
    }
   ],
   "source": [
    "#Calculate mean sales of holiday and non-holiday weeks\n",
    "df4 = pd.DataFrame(df.groupby(['Holiday_Flag'])['Weekly_Sales'].mean())\n",
    "df4 = df4.sort_values('Weekly_Sales', ascending = False)\n",
    "df4"
   ]
  },
  {
   "cell_type": "markdown",
   "id": "ee1df8e9",
   "metadata": {},
   "source": [
    "Holiday weeks have higher average sales than non-holiday weeks, which indicates that holiday likely had an impact on shopping behaviour (i.e. people tended to buy more in holiday season). "
   ]
  },
  {
   "cell_type": "markdown",
   "id": "69bf1751",
   "metadata": {},
   "source": [
    "# Is there any holiday that has lower sales than the average non-holiday sales?"
   ]
  },
  {
   "cell_type": "code",
   "execution_count": 86,
   "id": "b662d307",
   "metadata": {},
   "outputs": [
    {
     "name": "stdout",
     "output_type": "stream",
     "text": [
      "Super Bowl Average Sales: 1079128.0\n",
      "Labour Day Average Sales: 1042427.3\n",
      "Thanksgiving Average Sales: 1471273.4\n",
      "Christmas Average Sales: 960833.1\n",
      "Non-holiday sales: 1041256.4\n"
     ]
    },
    {
     "data": {
      "image/png": "[encoded data removed]",
      "text/plain": [
       "<Figure size 432x288 with 1 Axes>"
      ]
     },
     "metadata": {
      "needs_background": "light"
     },
     "output_type": "display_data"
    }
   ],
   "source": [
    "Super_Bowl_days = ['12-02-2010', '11-02-2011', '10-02-2012', '08-02-2013']\n",
    "Super_Bowl = df[df['Date'].isin(Super_Bowl_days)]\n",
    "\n",
    "Labour_Day_days = ['10-09-2010', '09-09-2011', '07-09-2012', '06-09-2013']\n",
    "Labour_Day = df[df['Date'].isin(Labour_Day_days)]\n",
    "\n",
    "Thanksgiving_days = ['26-11-2010', '25-11-2011', '23-11-2012', '29-11-2013']\n",
    "Thanksgiving = df[df['Date'].isin(Thanksgiving_days)]\n",
    "\n",
    "Christmas_days = ['31-12-2010', '30-12-2011', '28-12-2012', '27-12-2013']\n",
    "Christmas = df[df['Date'].isin(Christmas_days)]\n",
    "\n",
    "holidays = ['12-02-2010', '11-02-2011', '10-02-2012', '08-02-2013', '10-09-2010', '09-09-2011', '07-09-2012', '06-09-2013', '26-11-2010', '25-11-2011', '23-11-2012', '29-11-2013', '31-12-2010', '30-12-2011', '28-12-2012', '27-12-2013']\n",
    "\n",
    "Non_holiday = df[~df['Date'].isin(holidays)]\n",
    "\n",
    "#Calculate the average sales for each holiday\n",
    "\n",
    "Super_Bowl_sales = Super_Bowl['Weekly_Sales'].mean()\n",
    "print(f'Super Bowl Average Sales: {Super_Bowl_sales:.1f}')\n",
    "\n",
    "Labour_Day_sales = Labour_Day['Weekly_Sales'].mean()\n",
    "print(f'Labour Day Average Sales: {Labour_Day_sales:.1f}')\n",
    "\n",
    "Thanksgiving_sales = Thanksgiving['Weekly_Sales'].mean()\n",
    "print(f'Thanksgiving Average Sales: {Thanksgiving_sales:.1f}')\n",
    "\n",
    "Christmas_sales = Christmas['Weekly_Sales'].mean()\n",
    "print(f'Christmas Average Sales: {Christmas_sales:.1f}')\n",
    "\n",
    "#Calculate the average sales on non-holiday weeks\n",
    "\n",
    "Non_holiday_sales = Non_holiday['Weekly_Sales'].mean()\n",
    "print(f'Non-holiday sales: {Non_holiday_sales:.1f}')\n",
    "\n",
    "#Create a bar graph to demonstrate\n",
    "fig, ax = plt.subplots()\n",
    "ax.bar(['Non-holiday','Super Bowl', 'Labour Day', 'Thanksgiving', 'Christmas'], [Non_holiday_sales, Super_Bowl_sales, Labour_Day_sales, Thanksgiving_sales, Christmas_sales])\n",
    "ax.set_title = ('Average holiday and non-holiday sales')\n",
    "ax.set_xlabel('Holidays')\n",
    "ax.set_ylabel('Average Sales')\n",
    "plt.show()"
   ]
  },
  {
   "cell_type": "markdown",
   "id": "fecccdb5",
   "metadata": {},
   "source": [
    "We can see that Christmas is the only holiday where sales are lower than non-holiday season. It would be useful to understand why (e.g., How long had this trend been happening? If it had been happening for 3 or more years, we might conclude that people's shopping behaviour had changed and they were not buying much on Christmas anymore. If so, is there anything we can do to reverse this trend?)\n",
    "\n",
    "It is also noticeable that sales were considerably higher on Thanksgiving weeks than other holidays and non-holiday weeks. Again, it would be interesting to understand why people were buying more on Thanksgiving and whether it signified any change in consumer behaviour (e.g., Was Thanksgiving increasingly perceived as a more important holiday than Christmas?). \n",
    "\n",
    "Sales on Super Bowl and Labour Day were only slightly higher than average sales in non-holiday season, so these holidays do not seem to have a big impact on people's shopping behaviour. However, Walmart can also look into ways to stimulate demands on these occasions (e,g., by promoting foods & drinks that are popular during Super Bowl season). "
   ]
  },
  {
   "cell_type": "markdown",
   "id": "ddc4767a",
   "metadata": {},
   "source": [
    "# Next Steps"
   ]
  },
  {
   "cell_type": "markdown",
   "id": "14a7287c",
   "metadata": {},
   "source": [
    "This dataset can be used to build a prediction model to forecast demand. "
   ]
  }
 ],
 "metadata": {
  "kernelspec": {
   "display_name": "Python 3 (ipykernel)",
   "language": "python",
   "name": "python3"
  },
  "language_info": {
   "codemirror_mode": {
    "name": "ipython",
    "version": 3
   },
   "file_extension": ".py",
   "mimetype": "text/x-python",
   "name": "python",
   "nbconvert_exporter": "python",
   "pygments_lexer": "ipython3",
   "version": "3.9.12"
  }
 },
 "nbformat": 4,
 "nbformat_minor": 5
}
